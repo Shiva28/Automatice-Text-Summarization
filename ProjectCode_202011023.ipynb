{
  "nbformat": 4,
  "nbformat_minor": 0,
  "metadata": {
    "colab": {
      "name": "IR Term Paper project.ipynb",
      "provenance": [],
      "collapsed_sections": [],
      "toc_visible": true
    },
    "kernelspec": {
      "name": "python3",
      "display_name": "Python 3"
    },
    "language_info": {
      "name": "python"
    }
  },
  "cells": [
    {
      "cell_type": "markdown",
      "metadata": {
        "id": "tkweQo4InXyv"
      },
      "source": [
        "#**TERM PAPER - PROJECT (IT-550)**#\n",
        "##**Title of Paper:**##\n",
        "Automatic Text Summarization : A Comprehensive Survey\n",
        "##**Team members:**\n",
        "Sana Baid : 202011019\n",
        "\n",
        "Shivangi Gajjar : 202011023\n",
        "\n",
        "Shradha Makhija : 202011029\n",
        "\n",
        "Mantra Sanathra : 202011041\n",
        "\n",
        "E.V.V. Hari Charan : 202011056\n",
        "\n"
      ]
    },
    {
      "cell_type": "markdown",
      "metadata": {
        "id": "SOUxmJF_N53t"
      },
      "source": [
        "#**Import Libraries** "
      ]
    },
    {
      "cell_type": "code",
      "metadata": {
        "id": "CWsbe2Ic8n9-",
        "colab": {
          "base_uri": "https://localhost:8080/"
        },
        "outputId": "628790e7-6c6e-4fb7-905d-b796e35c817c"
      },
      "source": [
        "!pip install rouge-score"
      ],
      "execution_count": null,
      "outputs": [
        {
          "output_type": "stream",
          "text": [
            "Collecting rouge-score\n",
            "  Downloading https://files.pythonhosted.org/packages/1f/56/a81022436c08b9405a5247b71635394d44fe7e1dbedc4b28c740e09c2840/rouge_score-0.0.4-py2.py3-none-any.whl\n",
            "Requirement already satisfied: numpy in /usr/local/lib/python3.7/dist-packages (from rouge-score) (1.19.5)\n",
            "Requirement already satisfied: six>=1.14.0 in /usr/local/lib/python3.7/dist-packages (from rouge-score) (1.15.0)\n",
            "Requirement already satisfied: absl-py in /usr/local/lib/python3.7/dist-packages (from rouge-score) (0.12.0)\n",
            "Requirement already satisfied: nltk in /usr/local/lib/python3.7/dist-packages (from rouge-score) (3.2.5)\n",
            "Installing collected packages: rouge-score\n",
            "Successfully installed rouge-score-0.0.4\n"
          ],
          "name": "stdout"
        }
      ]
    },
    {
      "cell_type": "code",
      "metadata": {
        "colab": {
          "base_uri": "https://localhost:8080/"
        },
        "id": "Vto2O9ljLQOo",
        "outputId": "ccd2e354-cf23-46ba-c04f-946b93aa0831"
      },
      "source": [
        "from csv import DictWriter\n",
        "import ast\n",
        "import json\n",
        "import csv\n",
        "import operator\n",
        "import re\n",
        "import os\n",
        "import math\n",
        "from numba import jit\n",
        "from bs4 import BeautifulSoup\n",
        "import nltk\n",
        "from nltk.corpus import stopwords\n",
        "from nltk.stem import WordNetLemmatizer\n",
        "import pandas as pd\n",
        "from nltk.tokenize import sent_tokenize\n",
        "from scipy.spatial import distance as cos_dist\n",
        "import numpy as np\n",
        "from numpy.linalg import norm\n",
        "from gensim.models import Word2Vec\n",
        "from scipy.spatial import distance as cos_dist\n",
        "from sklearn.feature_extraction.text import TfidfVectorizer \n",
        "from rouge_score import rouge_scorer\n",
        "import matplotlib.pyplot as plt\n",
        "import warnings \n",
        "import urllib\n",
        "import requests\n",
        "from sklearn.metrics.pairwise import cosine_similarity\n",
        "from rouge_score import rouge_scorer\n",
        "warnings.filterwarnings('ignore')\n",
        "\n",
        "nltk.download('punkt')\n",
        "nltk.download('stopwords')\n",
        "nltk.download('wordnet')\n"
      ],
      "execution_count": null,
      "outputs": [
        {
          "output_type": "stream",
          "text": [
            "[nltk_data] Downloading package punkt to /root/nltk_data...\n",
            "[nltk_data]   Unzipping tokenizers/punkt.zip.\n",
            "[nltk_data] Downloading package stopwords to /root/nltk_data...\n",
            "[nltk_data]   Unzipping corpora/stopwords.zip.\n",
            "[nltk_data] Downloading package wordnet to /root/nltk_data...\n",
            "[nltk_data]   Unzipping corpora/wordnet.zip.\n"
          ],
          "name": "stdout"
        },
        {
          "output_type": "execute_result",
          "data": {
            "text/plain": [
              "True"
            ]
          },
          "metadata": {
            "tags": []
          },
          "execution_count": 2
        }
      ]
    },
    {
      "cell_type": "markdown",
      "metadata": {
        "id": "HXqwklpOd4oo"
      },
      "source": [
        "#**Reading Data Set**"
      ]
    },
    {
      "cell_type": "code",
      "metadata": {
        "id": "wJFIi1q8NYBd"
      },
      "source": [
        "url = \"https://raw.githubusercontent.com/abisee/cnn-dailymail/master/url_lists/all_train.txt\"\n",
        "file = urllib.request.urlopen(url)\n",
        "temp = []\n",
        "for line in file:\n",
        "  temp.append(line.decode(\"utf-8\"))"
      ],
      "execution_count": null,
      "outputs": []
    },
    {
      "cell_type": "markdown",
      "metadata": {
        "id": "-3kcqcv5d_xZ"
      },
      "source": [
        "#**Preparing Corpus**"
      ]
    },
    {
      "cell_type": "code",
      "metadata": {
        "id": "N0yFLBbeOG4M"
      },
      "source": [
        "corpus = []\n",
        "ref_summary = []\n",
        "link_list = temp[:500]\n",
        "\n",
        "for link in link_list:\n",
        "  page = requests.get(link)\n",
        "  html = page.content\n",
        "\n",
        "  ## creating BeautifulSoup object\n",
        "  soup = BeautifulSoup(html)\n",
        "  temp1 = soup.find(\"div\", {\"id\": \"cnnTxtCmpnt\"})  \n",
        "  paras = temp1.find_all(\"p\")\n",
        "\n",
        "  text = \"\"\n",
        "  for para in paras[:-1]:\n",
        "    text += str(para.get_text()) + \" \"\n",
        "  \n",
        "  flag = 0 #to check if the text is empty\n",
        "  if text != \"\":\n",
        "    flag = 1\n",
        "    corpus.append(text)\n",
        "\n",
        "  temp2 = soup.find(\"div\", {\"id\": \"cnnHeaderRightCol\"})\n",
        "  summary = temp2.find(\"ul\") \n",
        "  sent_list = summary.find_all(\"li\")\n",
        "  \n",
        "  text = []\n",
        "\n",
        "  # first and last sentence removed as they contain heading and footnote\n",
        "  for sent in sent_list[1:-1]:\n",
        "    text.append(sent.get_text())\n",
        "\n",
        "  if flag != 0:\n",
        "    ref_summary.append(text)"
      ],
      "execution_count": null,
      "outputs": []
    },
    {
      "cell_type": "markdown",
      "metadata": {
        "id": "YT-eUgOdeD3_"
      },
      "source": [
        "#**Preprocessing function**"
      ]
    },
    {
      "cell_type": "code",
      "metadata": {
        "id": "DPi_4dsYZGIl"
      },
      "source": [
        "def pre_process(data):\n",
        "  data = re.sub('[^\\w\\s]',\"\",data)             # punctuation removal\n",
        "  data = re.sub('[0-9]',\"\",data)               # number removal\n",
        "  data = data.lower()                          # lowercasing\n",
        "  data = data.split()\n",
        "  sw = stopwords.words('english')\n",
        "  wl = WordNetLemmatizer()                     # lemmatization\n",
        "  data = [wl.lemmatize(token) for token in data if token not in sw] #stop words removal\n",
        "  data = ' '.join(data)\n",
        "  data = data.strip(' ')                \n",
        "  return data"
      ],
      "execution_count": null,
      "outputs": []
    },
    {
      "cell_type": "code",
      "metadata": {
        "id": "F7bS599HUVTp"
      },
      "source": [
        "data = []\n",
        "raw_corpus = []\n",
        "\n",
        "#Tokenisation and calling preprocessing function\n",
        "for item in corpus:\n",
        "  sent = sent_tokenize(item)\n",
        "  raw_corpus.append(sent)\n",
        "  sent = [pre_process(i) for i in sent]\n",
        "  data.append(sent)\n"
      ],
      "execution_count": null,
      "outputs": []
    },
    {
      "cell_type": "markdown",
      "metadata": {
        "id": "vjm0oO2yeLPS"
      },
      "source": [
        "#**TF-IDF Vectorizing**"
      ]
    },
    {
      "cell_type": "code",
      "metadata": {
        "id": "AmV-9XMLdniG"
      },
      "source": [
        "#Creating list of all the words for each document\n",
        "TF_IDF_DOCS = []\n",
        "for doc in data:\n",
        "  vectorizer = TfidfVectorizer()\n",
        "  try:\n",
        "    TF_IDF_DOCS.append(vectorizer.fit_transform(doc)) #tf-idf vector for each sentence in doc\n",
        "  except:\n",
        "    print(data.index(doc))"
      ],
      "execution_count": null,
      "outputs": []
    },
    {
      "cell_type": "markdown",
      "metadata": {
        "id": "DxG1obgm3kV0"
      },
      "source": [
        "#**Word2Vec Vectorizing** "
      ]
    },
    {
      "cell_type": "code",
      "metadata": {
        "id": "eZZ7cJyH4xyd"
      },
      "source": [
        "#Creating list of all the words for each document\n",
        "sg_data = []\n",
        "for doc in data:\n",
        "  tokens = []\n",
        "  for sent in doc:\n",
        "    tokens.extend(sent.split())\n",
        "  sg_data.append(tokens)"
      ],
      "execution_count": null,
      "outputs": []
    },
    {
      "cell_type": "code",
      "metadata": {
        "id": "X95e9AF34Vrz"
      },
      "source": [
        "# Training Word2Vec model using Skip-Gram\n",
        "sg_model = Word2Vec(sg_data, size = 150, min_count = 1,window = 10, sg = 1, hs = 1, iter = 5, workers = 10)\n"
      ],
      "execution_count": null,
      "outputs": []
    },
    {
      "cell_type": "markdown",
      "metadata": {
        "id": "WG-h4KE3NkVw"
      },
      "source": [
        "## Document vectorisation"
      ]
    },
    {
      "cell_type": "code",
      "metadata": {
        "id": "jPtPxabJKYA_"
      },
      "source": [
        "\n",
        "# Calculating weighted average and forming document vectors\n",
        "WORD2VEC_DOCS = []\n",
        "for doc in data:\n",
        "  doc_vec = []\n",
        "  for sent in doc:\n",
        "      temp1 = np.zeros(150)\n",
        "      for word in sent.split():\n",
        "          try:\n",
        "              temp1 = temp1 + sg_model.wv.__getitem__(word) # adding values of each token in doc to vector\n",
        "          except:\n",
        "            continue\n",
        "      doc_vec.append(temp1/len(sent.split()))\n",
        "  WORD2VEC_DOCS.append(doc_vec)    "
      ],
      "execution_count": null,
      "outputs": []
    },
    {
      "cell_type": "markdown",
      "metadata": {
        "id": "szF5gtFKgETq"
      },
      "source": [
        "#**Clustering using K-means**"
      ]
    },
    {
      "cell_type": "code",
      "metadata": {
        "id": "loStHkLJmpQB"
      },
      "source": [
        "def my_Kmeans(data_arr,k,max_iter):\n",
        "\n",
        "  centroids = dict()      # to save centroids ({class_label : centroid})\n",
        "  classes = dict()        # to save data per class ({class_label : [list of data]})\n",
        "  predict = dict()        # to save data index per class  ({class_label:[indices of data]})\n",
        "\n",
        "  # Initializing the centroids as first k data points \n",
        "  for i in range(k):\n",
        "      centroids[i] = data_arr[i]\n",
        "\n",
        "  # Iterations \n",
        "  for iter in range(max_iter):\n",
        "      classes = dict()\n",
        "      predict = dict()\n",
        "      for i in range(k):\n",
        "          classes[i] = []\n",
        "          predict[i] = []\n",
        "      ctr = 0\n",
        "\n",
        "      # Calculating distance and finding minimum distance\n",
        "      for data in data_arr:\n",
        "          distance = []\n",
        "          for c in centroids:\n",
        "              distance.append(cos_dist.cosine(data, centroids[c]))    # distance computation\n",
        "          index_point = distance.index(min(distance))\n",
        "          classes[index_point].append(data)\n",
        "          predict[index_point].append(ctr)\n",
        "          ctr = ctr + 1\n",
        "      old = dict(centroids)      # saving old centroids for error checking\n",
        "\n",
        "      # replacing centroid as new mean of datapoints\n",
        "      for i in classes:\n",
        "          new_centroid = np.mean(classes[i], axis = 0)\n",
        "          centroids[i] = new_centroid\n",
        "      \n",
        "      # checking error (here set as 0.001)\n",
        "      break_loop = 1\n",
        "      for c in old:\n",
        "          old_centroid = old[c]\n",
        "          current_centroid = centroids[c]\n",
        "          if np.sum((current_centroid - old_centroid)/old_centroid *100) > 0.001:\n",
        "              break_loop = 0\n",
        "      if break_loop == 1:             \n",
        "          break\n",
        "\n",
        "  # making a prediction list for all data-points        \n",
        "  prediction = list(np.zeros(len(data_arr)))\n",
        "  for j in predict:\n",
        "      for p in predict[j]:\n",
        "          prediction[p] = j\n",
        "          \n",
        "  return centroids,classes, prediction"
      ],
      "execution_count": null,
      "outputs": []
    },
    {
      "cell_type": "markdown",
      "metadata": {
        "id": "PnNfkb4PpIA-"
      },
      "source": [
        "#**Summarization**\n"
      ]
    },
    {
      "cell_type": "code",
      "metadata": {
        "id": "ERfiRQsLo8Vy"
      },
      "source": [
        "#Summary generation for documents\n",
        "#returns sorted indices of the summary sentence vectors \n",
        "def get_summary(data_arr,k,max_iter):\n",
        "  summary = []\n",
        "  centroids, classes,custom = my_Kmeans(data_arr,k,max_iter)\n",
        "\n",
        "  #custom -> contains cluster labels\n",
        "  #Check to consider only those docs that have created k distinct clusters\n",
        "  if len(set(custom)) == k:\n",
        "    for k in centroids:\n",
        "      centroid_list = []\n",
        "\n",
        "      #Fetching the distance of the cluster sentences to the cluster's centroid\n",
        "      for line in classes[k]:\n",
        "        centroid_list.append(cos_dist.cosine(line , centroids[k][0]))\n",
        "\n",
        "      #selecting closest sentence for summary\n",
        "      sent_index = classes[k][np.argmin(centroid_list)] #index of of the closest sentence\n",
        "      summary.append(list(np.where(np.all(data_arr == sent_index,axis=1)))[0][0])\n",
        "\n",
        "    #list of the indices of the summary sentences\n",
        "    summary = sorted(summary)\n",
        "\n",
        "  return summary"
      ],
      "execution_count": null,
      "outputs": []
    },
    {
      "cell_type": "code",
      "metadata": {
        "id": "ccr1Zk5VrkT_"
      },
      "source": [
        "#Summarizer function for TF-IDF vectorised documents\n",
        "def summarizer_TF(sent_count):\n",
        "  new_summary = []\n",
        "  #outliers = 0\n",
        "  for i in range(len(TF_IDF_DOCS)):\n",
        "      if len(data[i]) >sent_count :\n",
        "        summary = get_summary(TF_IDF_DOCS[i].todense(), sent_count,max_iter=20)\n",
        "\n",
        "        temp_summary = []\n",
        "        for ind in summary:\n",
        "          #fetching sentence from raw corpus i.e original sentence\n",
        "          temp_summary.append(raw_corpus[i][ind])\n",
        "\n",
        "        new_summary.append(temp_summary)\n",
        "      else:\n",
        "        new_summary.append(raw_corpus[i]) \n",
        "  return new_summary"
      ],
      "execution_count": null,
      "outputs": []
    },
    {
      "cell_type": "code",
      "metadata": {
        "id": "hKgA8wrP9FWB"
      },
      "source": [
        "#Summarizer function for word to vector vectorised documents\n",
        "def summarizer_W2V(sent_count):\n",
        "  new_summary = []\n",
        "  #outliers = 0\n",
        "  for i in range(len(WORD2VEC_DOCS)):\n",
        "      if len(data[i]) > sent_count :\n",
        "        summary = get_summary(np.array(WORD2VEC_DOCS[i]),sent_count,max_iter=20)\n",
        "      \n",
        "        temp_summary = []\n",
        "        for ind in summary:\n",
        "          #fetching sentence from raw corpus i.e original sentence\n",
        "          temp_summary.append(raw_corpus[i][ind])\n",
        "\n",
        "        new_summary.append(temp_summary)\n",
        "      else:\n",
        "        new_summary.append(raw_corpus[i]) \n",
        "  return new_summary"
      ],
      "execution_count": null,
      "outputs": []
    },
    {
      "cell_type": "markdown",
      "metadata": {
        "id": "RBEPnMZJkXM3"
      },
      "source": [
        "##Sample summary display"
      ]
    },
    {
      "cell_type": "code",
      "metadata": {
        "colab": {
          "base_uri": "https://localhost:8080/"
        },
        "id": "DUGxUR9MmefT",
        "outputId": "b7873d55-6be7-446c-9371-7557aea83874"
      },
      "source": [
        "print(\"Text Data: \")\n",
        "for i in raw_corpus[0]:\n",
        "  print(i)\n",
        "\n",
        "print(\"\\nOriginal Summary: \")\n",
        "for i in ref_summary[0]:\n",
        "  print(i)"
      ],
      "execution_count": null,
      "outputs": [
        {
          "output_type": "stream",
          "text": [
            "Text Data: \n",
            "Editor's note: In our Behind the Scenes series, CNN correspondents share their experiences in covering news and analyze the stories behind the events.\n",
            "Here, Soledad O'Brien takes users inside a jail where many of the inmates are mentally ill. An inmate housed on the \"forgotten floor,\" where many mentally ill inmates are housed in Miami before trial.\n",
            "MIAMI, Florida (CNN) -- The ninth floor of the Miami-Dade pretrial detention facility is dubbed the \"forgotten floor.\"\n",
            "Here, inmates with the most severe mental illnesses are incarcerated until they're ready to appear in court.\n",
            "Most often, they face drug charges or charges of assaulting an officer --charges that Judge Steven Leifman says are usually \"avoidable felonies.\"\n",
            "He says the arrests often result from confrontations with police.\n",
            "Mentally ill people often won't do what they're told when police arrive on the scene -- confrontation seems to exacerbate their illness and they become more paranoid, delusional, and less likely to follow directions, according to Leifman.\n",
            "So, they end up on the ninth floor severely mentally disturbed, but not getting any real help because they're in jail.\n",
            "We toured the jail with Leifman.\n",
            "He is well known in Miami as an advocate for justice and the mentally ill.\n",
            "Even though we were not exactly welcomed with open arms by the guards, we were given permission to shoot videotape and tour the floor.\n",
            "Go inside the 'forgotten floor' »  At first, it's hard to determine where the people are.\n",
            "The prisoners are wearing sleeveless robes.\n",
            "Imagine cutting holes for arms and feet in a heavy wool sleeping bag -- that's kind of what they look like.\n",
            "They're designed to keep the mentally ill patients from injuring themselves.\n",
            "That's also why they have no shoes, laces or mattresses.\n",
            "Leifman says about one-third of all people in Miami-Dade county jails are mentally ill.\n",
            "So, he says, the sheer volume is overwhelming the system, and the result is what we see on the ninth floor.\n",
            "Of course, it is a jail, so it's not supposed to be warm and comforting, but the lights glare, the cells are tiny and it's loud.\n",
            "We see two, sometimes three men -- sometimes in the robes, sometimes naked, lying or sitting in their cells.\n",
            "\"I am the son of the president.\n",
            "You need to get me out of here!\"\n",
            "one man shouts at me.\n",
            "He is absolutely serious, convinced that help is on the way -- if only he could reach the White House.\n",
            "Leifman tells me that these prisoner-patients will often circulate through the system, occasionally stabilizing in a mental hospital, only to return to jail to face their charges.\n",
            "It's brutally unjust, in his mind, and he has become a strong advocate for changing things in Miami.\n",
            "Over a meal later, we talk about how things got this way for mental patients.\n",
            "Leifman says 200 years ago people were considered \"lunatics\" and they were locked up in jails even if they had no charges against them.\n",
            "They were just considered unfit to be in society.\n",
            "Over the years, he says, there was some public outcry, and the mentally ill were moved out of jails and into hospitals.\n",
            "But Leifman says many of these mental hospitals were so horrible they were shut down.\n",
            "Where did the patients go?\n",
            "Nowhere.\n",
            "The streets.\n",
            "They became, in many cases, the homeless, he says.\n",
            "They never got treatment.\n",
            "Leifman says in 1955 there were more than half a million people in state mental hospitals, and today that number has been reduced 90 percent, and 40,000 to 50,000 people are in mental hospitals.\n",
            "The judge says he's working to change this.\n",
            "Starting in 2008, many inmates who would otherwise have been brought to the \"forgotten floor\"  will instead be sent to a new mental health facility -- the first step on a journey toward long-term treatment, not just punishment.\n",
            "Leifman says it's not the complete answer, but it's a start.\n",
            "Leifman says the best part is that it's a win-win solution.\n",
            "The patients win, the families are relieved, and the state saves money by simply not cycling these prisoners through again and again.\n",
            "And, for Leifman, justice is served.\n",
            "E-mail to a friend\n",
            "\n",
            "Original Summary: \n",
            " Mentally ill inmates in Miami are housed on the \"forgotten floor\"  \n",
            " Judge Steven Leifman says most are there as a result of \"avoidable felonies\"  \n",
            " While CNN tours facility, patient shouts: \"I am the son of the president\" \n",
            " Leifman says the system is unjust and he's fighting for change \n"
          ],
          "name": "stdout"
        }
      ]
    },
    {
      "cell_type": "code",
      "metadata": {
        "id": "hEpgdrPfkrLX"
      },
      "source": [
        "sample_summary_TF = summarizer_TF(7)"
      ],
      "execution_count": null,
      "outputs": []
    },
    {
      "cell_type": "code",
      "metadata": {
        "colab": {
          "base_uri": "https://localhost:8080/"
        },
        "id": "m9OCD7xrlDIU",
        "outputId": "cfe18031-8188-4d8f-ff6c-90b6f8e33e9e"
      },
      "source": [
        "print(\"\\nSummary generated (TF-IDF): \")\n",
        "for i in sample_summary_TF[0]:\n",
        "  print(i)"
      ],
      "execution_count": null,
      "outputs": [
        {
          "output_type": "stream",
          "text": [
            "\n",
            "Summary generated: \n",
            "MIAMI, Florida (CNN) -- The ninth floor of the Miami-Dade pretrial detention facility is dubbed the \"forgotten floor.\"\n",
            "Most often, they face drug charges or charges of assaulting an officer --charges that Judge Steven Leifman says are usually \"avoidable felonies.\"\n",
            "He says the arrests often result from confrontations with police.\n",
            "Mentally ill people often won't do what they're told when police arrive on the scene -- confrontation seems to exacerbate their illness and they become more paranoid, delusional, and less likely to follow directions, according to Leifman.\n",
            "Leifman says about one-third of all people in Miami-Dade county jails are mentally ill.\n",
            "Leifman says in 1955 there were more than half a million people in state mental hospitals, and today that number has been reduced 90 percent, and 40,000 to 50,000 people are in mental hospitals.\n",
            "The patients win, the families are relieved, and the state saves money by simply not cycling these prisoners through again and again.\n"
          ],
          "name": "stdout"
        }
      ]
    },
    {
      "cell_type": "code",
      "metadata": {
        "id": "9c6iZHY2jT23"
      },
      "source": [
        "sample_summary_W2V = summarizer_W2V(7)"
      ],
      "execution_count": null,
      "outputs": []
    },
    {
      "cell_type": "code",
      "metadata": {
        "colab": {
          "base_uri": "https://localhost:8080/"
        },
        "id": "z-YMzz1ymZNJ",
        "outputId": "022920fb-a28d-4455-93c2-cb0c58f6bb6b"
      },
      "source": [
        "print(\"\\nSummary generated(Word2Vec): \")\n",
        "for i in sample_summary_W2V[0]:\n",
        "  print(i)"
      ],
      "execution_count": null,
      "outputs": [
        {
          "output_type": "stream",
          "text": [
            "\n",
            "Summary generated(Word2Vec): \n",
            "MIAMI, Florida (CNN) -- The ninth floor of the Miami-Dade pretrial detention facility is dubbed the \"forgotten floor.\"\n",
            "He says the arrests often result from confrontations with police.\n",
            "He is well known in Miami as an advocate for justice and the mentally ill.\n",
            "It's brutally unjust, in his mind, and he has become a strong advocate for changing things in Miami.\n",
            "Over the years, he says, there was some public outcry, and the mentally ill were moved out of jails and into hospitals.\n",
            "The streets.\n",
            "E-mail to a friend\n"
          ],
          "name": "stdout"
        }
      ]
    },
    {
      "cell_type": "markdown",
      "metadata": {
        "id": "rwYHG1DzN0bP"
      },
      "source": [
        "#**Evaluation** "
      ]
    },
    {
      "cell_type": "markdown",
      "metadata": {
        "id": "snzDxo79VkA-"
      },
      "source": [
        "##Rouge1"
      ]
    },
    {
      "cell_type": "code",
      "metadata": {
        "id": "HJX71OUf9Anv"
      },
      "source": [
        "#Returns Average precision, f-measre and recal of rouque 1\n",
        "def get_rouge1(new_summary,doc_len):\n",
        "  avgp = 0\n",
        "  avgr = 0\n",
        "  avgf = 0\n",
        "\n",
        "  for i in range(len(new_summary)):\n",
        "    scorer = rouge_scorer.RougeScorer(['rouge1'], use_stemmer=True)\n",
        "    scores = scorer.score(str(new_summary[i]),str(ref_summary[i]))\n",
        "\n",
        "    avgp += scores[\"rouge1\"].precision\n",
        "    avgr += scores[\"rouge1\"].recall\n",
        "    avgf += scores[\"rouge1\"].fmeasure\n",
        "\n",
        "\n",
        "\n",
        "  return avgp/doc_len,avgr/doc_len,avgf/doc_len\n"
      ],
      "execution_count": null,
      "outputs": []
    },
    {
      "cell_type": "markdown",
      "metadata": {
        "id": "n8EnkuncXdx7"
      },
      "source": [
        "Rougue 1 calculation for tfidf"
      ]
    },
    {
      "cell_type": "code",
      "metadata": {
        "id": "mUW09UC29j1F"
      },
      "source": [
        "sent_count = np.arange(5,20,2)\n",
        "#Getting ROUGE1\n",
        "scores_tfidf_p = []\n",
        "scores_tfidf_r = []\n",
        "scores_tfidf_f = []\n",
        "\n",
        "for count in sent_count:\n",
        "  summary = summarizer_TF(count) \n",
        "  score,r,f = get_rouge1(summary,len(data))\n",
        "  scores_tfidf_p.append(score)\n",
        "  scores_tfidf_r.append(r)\n",
        "  scores_tfidf_f.append(f)\n"
      ],
      "execution_count": null,
      "outputs": []
    },
    {
      "cell_type": "code",
      "metadata": {
        "colab": {
          "base_uri": "https://localhost:8080/"
        },
        "id": "hgEKmeK5O8--",
        "outputId": "236ed4a7-7603-48b4-a2f8-d86749d50563"
      },
      "source": [
        "#TFidf\n",
        "print(\"r1 score(p):\\n\", [round(x,4) for x in scores_tfidf_p])\n",
        "print(\"r1 score(r):\\n\", [round(x,4) for x in scores_tfidf_r])\n",
        "print(\"r1 score(f):\\n\", [round(x,4) for x in scores_tfidf_f])"
      ],
      "execution_count": null,
      "outputs": [
        {
          "output_type": "stream",
          "text": [
            "r1 score(p):\n",
            " [0.5319, 0.6093, 0.6572, 0.6972, 0.7178, 0.7423, 0.7523, 0.7641]\n",
            "r1 score(r):\n",
            " [0.2068, 0.1699, 0.1441, 0.127, 0.1133, 0.1049, 0.0977, 0.0923]\n",
            "r1 score(f):\n",
            " [0.291, 0.2612, 0.2328, 0.2118, 0.1929, 0.1811, 0.1703, 0.162]\n"
          ],
          "name": "stdout"
        }
      ]
    },
    {
      "cell_type": "markdown",
      "metadata": {
        "id": "j6YTA2_EXyen"
      },
      "source": [
        "Rouge1 calculation for word2vec"
      ]
    },
    {
      "cell_type": "code",
      "metadata": {
        "id": "LQZqCekR9tG_"
      },
      "source": [
        "scores_w2v_p = []\n",
        "scores_w2v_r = []\n",
        "scores_w2v_f = []\n",
        "\n",
        "for count in sent_count:\n",
        "  summary = summarizer_W2V(count) \n",
        "  p,r,f = get_rouge1(summary,len(data))\n",
        "  scores_w2v_p.append(p)\n",
        "  scores_w2v_r.append(r)\n",
        "  scores_w2v_f.append(f)"
      ],
      "execution_count": null,
      "outputs": []
    },
    {
      "cell_type": "code",
      "metadata": {
        "colab": {
          "base_uri": "https://localhost:8080/"
        },
        "id": "v1FFhqutRG_G",
        "outputId": "cb3b662f-56d2-4ea9-cec8-8e61e689a8e7"
      },
      "source": [
        "#W2V\n",
        "print(\"r1 score(p):\\n\", [round(x,4) for x in scores_w2v_p])\n",
        "print(\"r1 score(r):\\n\", [round(x,4) for x in scores_w2v_r])\n",
        "print(\"r1 score(f):\\n\", [round(x,4) for x in scores_w2v_f])"
      ],
      "execution_count": null,
      "outputs": [
        {
          "output_type": "stream",
          "text": [
            "r1 score(p):\n",
            " [0.3928, 0.4849, 0.5441, 0.6033, 0.6451, 0.6804, 0.7045, 0.7214]\n",
            "r1 score(r):\n",
            " [0.1722, 0.1507, 0.1314, 0.1195, 0.1089, 0.1019, 0.0957, 0.0907]\n",
            "r1 score(f):\n",
            " [0.2339, 0.2254, 0.2082, 0.1965, 0.1837, 0.1747, 0.166, 0.1585]\n"
          ],
          "name": "stdout"
        }
      ]
    },
    {
      "cell_type": "markdown",
      "metadata": {
        "id": "6FtSTa4hX9Ra"
      },
      "source": [
        "Comparison between tf-idf and word2vec metrics"
      ]
    },
    {
      "cell_type": "code",
      "metadata": {
        "colab": {
          "base_uri": "https://localhost:8080/",
          "height": 295
        },
        "id": "UlafLyvs4lJY",
        "outputId": "ad0b2c55-0961-43f8-e290-4110db5a64cc"
      },
      "source": [
        "plt.bar(sent_count-0.35,scores_tfidf_p,label=\"TF-idf\")\n",
        "plt.bar(sent_count+0.45,scores_w2v_p,label=\"Word2Vec\")\n",
        "plt.xticks(sent_count)\n",
        "plt.legend()\n",
        "plt.title(\"ROUGE1\")\n",
        "plt.xlabel(\"Sentence Count\")\n",
        "plt.ylabel(\"Precision\")\n",
        "plt.show()"
      ],
      "execution_count": null,
      "outputs": [
        {
          "output_type": "display_data",
          "data": {
            "image/png": "[encoded data removed]",
            "text/plain": [
              "<Figure size 432x288 with 1 Axes>"
            ]
          },
          "metadata": {
            "tags": [],
            "needs_background": "light"
          }
        }
      ]
    },
    {
      "cell_type": "markdown",
      "metadata": {
        "id": "_fVlhga6WhIN"
      },
      "source": [
        "##Rouge2"
      ]
    },
    {
      "cell_type": "code",
      "metadata": {
        "id": "iZbLpzBrN_j1"
      },
      "source": [
        "#Returns Average precision, f-measre and recal of rouque 2\n",
        "def get_rouge2(new_summary,doc_len):\n",
        "  avgp = 0\n",
        "  avgr = 0\n",
        "  avgf = 0\n",
        "\n",
        "  for i in range(len(new_summary)):\n",
        "    scorer = rouge_scorer.RougeScorer(['rouge2'], use_stemmer=True)\n",
        "    scores = scorer.score(str(new_summary[i]),str(ref_summary[i]))\n",
        "\n",
        "    avgp += scores[\"rouge2\"].precision\n",
        "    avgr += scores[\"rouge2\"].recall\n",
        "    avgf += scores[\"rouge2\"].fmeasure\n",
        "\n",
        "\n",
        "\n",
        "  return avgp/doc_len,avgr/doc_len,avgf/doc_len\n"
      ],
      "execution_count": null,
      "outputs": []
    },
    {
      "cell_type": "markdown",
      "metadata": {
        "id": "u43SfOG0YKcc"
      },
      "source": [
        "Rouge 2 calculation for tf-idf "
      ]
    },
    {
      "cell_type": "code",
      "metadata": {
        "id": "np95iCBHMi4e"
      },
      "source": [
        "\n",
        "r2_tfidf_p = []\n",
        "r2_tfidf_r = []\n",
        "r2_tfidf_f = []\n",
        "\n",
        "for count in sent_count:\n",
        "  summary = summarizer_TF(count) \n",
        "  score,r,f = get_rouge2(summary,len(data))\n",
        "  r2_tfidf_p.append(score)\n",
        "  r2_tfidf_r.append(r)\n",
        "  r2_tfidf_f.append(f)\n"
      ],
      "execution_count": null,
      "outputs": []
    },
    {
      "cell_type": "code",
      "metadata": {
        "colab": {
          "base_uri": "https://localhost:8080/"
        },
        "id": "t19PR85HQncb",
        "outputId": "fb7f850e-49ff-4104-af0b-d433a03fb233"
      },
      "source": [
        "#TFidf\n",
        "print(\"r2 score(p):\\n\", [round(x,4) for x in r2_tfidf_p])\n",
        "print(\"r2 score(r):\\n\", [round(x,4) for x in r2_tfidf_r])\n",
        "print(\"r2 score(f):\\n\", [round(x,4) for x in r2_tfidf_f])"
      ],
      "execution_count": null,
      "outputs": [
        {
          "output_type": "stream",
          "text": [
            "r2 score(p):\n",
            " [0.2019, 0.2464, 0.2754, 0.3007, 0.3159, 0.3366, 0.3463, 0.3586]\n",
            "r2 score(r):\n",
            " [0.0761, 0.0664, 0.0586, 0.0533, 0.0491, 0.0472, 0.0449, 0.0436]\n",
            "r2 score(f):\n",
            " [0.1082, 0.103, 0.0954, 0.0895, 0.0839, 0.0818, 0.0785, 0.0765]\n"
          ],
          "name": "stdout"
        }
      ]
    },
    {
      "cell_type": "markdown",
      "metadata": {
        "id": "YFjzBmMaYSfk"
      },
      "source": [
        "Rouge2 calculation for word2vec"
      ]
    },
    {
      "cell_type": "code",
      "metadata": {
        "id": "Hgny57lBOZAt"
      },
      "source": [
        "r2_w2v_p = []\n",
        "r2_w2v_r = []\n",
        "r2_w2v_f = []\n",
        "\n",
        "for count in sent_count:\n",
        "  summary = summarizer_W2V(count) \n",
        "  p,r,f = get_rouge2(summary,len(data))\n",
        "  r2_w2v_p.append(p)\n",
        "  r2_w2v_r.append(r)\n",
        "  r2_w2v_f.append(f)"
      ],
      "execution_count": null,
      "outputs": []
    },
    {
      "cell_type": "code",
      "metadata": {
        "colab": {
          "base_uri": "https://localhost:8080/"
        },
        "id": "oxGteclCPWcI",
        "outputId": "977d17ed-9186-4a06-b945-5507e597d65f"
      },
      "source": [
        "#W2V\n",
        "print(\"r2 score(p):\\n\", [round(x,4) for x in r2_w2v_p])\n",
        "print(\"r2 score(r):\\n\", [round(x,4) for x in r2_w2v_r])\n",
        "print(\"r2 score(f):\\n\", [round(x,4) for x in r2_w2v_f])"
      ],
      "execution_count": null,
      "outputs": [
        {
          "output_type": "stream",
          "text": [
            "r2 score(p):\n",
            " [0.1208, 0.1648, 0.2019, 0.2398, 0.2654, 0.2931, 0.3148, 0.33]\n",
            "r2 score(r):\n",
            " [0.0512, 0.0494, 0.0469, 0.0459, 0.0437, 0.0434, 0.0425, 0.0416]\n",
            "r2 score(f):\n",
            " [0.0703, 0.0746, 0.0751, 0.076, 0.0742, 0.0747, 0.074, 0.0728]\n"
          ],
          "name": "stdout"
        }
      ]
    },
    {
      "cell_type": "markdown",
      "metadata": {
        "id": "y75mWMMaYVew"
      },
      "source": [
        "Comparison between tf-idf and word2vec metrics"
      ]
    },
    {
      "cell_type": "code",
      "metadata": {
        "colab": {
          "base_uri": "https://localhost:8080/",
          "height": 295
        },
        "id": "pq0E5k7JWO0W",
        "outputId": "c35049f3-a1f1-4a97-ab1c-1469ffe3d8f3"
      },
      "source": [
        "plt.bar(sent_count-0.35,r2_tfidf_p,label=\"TF-idf\")\n",
        "plt.bar(sent_count+0.45,r2_w2v_p,label=\"Word2Vec\")\n",
        "plt.xticks(sent_count)\n",
        "plt.legend()\n",
        "plt.xlabel(\"Sentence Count\")\n",
        "plt.ylabel(\"Precision\")\n",
        "plt.title(\"ROUGE2\")\n",
        "plt.show()"
      ],
      "execution_count": null,
      "outputs": [
        {
          "output_type": "display_data",
          "data": {
            "image/png": "[encoded data removed]",
            "text/plain": [
              "<Figure size 432x288 with 1 Axes>"
            ]
          },
          "metadata": {
            "tags": [],
            "needs_background": "light"
          }
        }
      ]
    }
  ]
}